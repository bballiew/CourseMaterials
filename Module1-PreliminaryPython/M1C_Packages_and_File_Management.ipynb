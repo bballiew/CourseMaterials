{
 "cells": [
  {
   "cell_type": "markdown",
   "metadata": {},
   "source": [
    "<html>\n",
    "    <summary></summary>\n",
    "    <p float=\"left\">\n",
    "         <div> <p></p> </div>\n",
    "         <div style=\"font-size: 20px; width: 800px;\">\n",
    "              <h1>\n",
    "               <left>Intro to Python: importing packages, classes/modules, os navigation, reading files </left>\n",
    "              </h1>\n",
    "              <p><left>============================================================================</left> </p>              \n",
    "             <pre>Course: BIOM 421, Spring 2024\n",
    "Instructor: Dr. Brian Munsky\n",
    "Contact Info: munsky@colostate.edu\n",
    "Authors: Will Raymond, Dr. Luis Aguilera, Dr. Brian Munsky\n",
    "</pre>\n",
    "         </div>\n",
    "    </p>\n",
    "\n",
    "</html>\n",
    "\n",
    "\n",
    "\n",
    "<details>\n",
    "  <summary>Copyright info</summary>\n",
    "\n",
    "```\n",
    "Copyright 2023 Brian Munsky\n",
    "\n",
    "Redistribution and use in source and binary forms, with or without modification, are permitted provided that the following conditions are met:\n",
    "\n",
    "1. Redistributions of source code must retain the above copyright notice, this list of conditions and the following disclaimer.\n",
    "\n",
    "2. Redistributions in binary form must reproduce the above copyright notice, this list of conditions and the following disclaimer in the documentation and/or other materials provided with the distribution.\n",
    "\n",
    "3. Neither the name of the copyright holder nor the names of its contributors may be used to endorse or promote products derived from this software without specific prior written permission.\n",
    "\n",
    "THIS SOFTWARE IS PROVIDED BY THE COPYRIGHT HOLDERS AND CONTRIBUTORS \"AS IS\" AND ANY EXPRESS OR IMPLIED WARRANTIES, INCLUDING, BUT NOT LIMITED TO, THE IMPLIED WARRANTIES OF MERCHANTABILITY AND FITNESS FOR A PARTICULAR PURPOSE ARE DISCLAIMED. IN NO EVENT SHALL THE COPYRIGHT HOLDER OR CONTRIBUTORS BE LIABLE FOR ANY DIRECT, INDIRECT, INCIDENTAL, SPECIAL, EXEMPLARY, OR CONSEQUENTIAL DAMAGES (INCLUDING, BUT NOT LIMITED TO, PROCUREMENT OF SUBSTITUTE GOODS OR SERVICES; LOSS OF USE, DATA, OR PROFITS; OR BUSINESS INTERRUPTION) HOWEVER CAUSED AND ON ANY THEORY OF LIABILITY, WHETHER IN CONTRACT, STRICT LIABILITY, OR TORT (INCLUDING NEGLIGENCE OR OTHERWISE) ARISING IN ANY WAY OUT OF THE USE OF THIS SOFTWARE, EVEN IF ADVISED OF THE POSSIBILITY OF SUCH DAMAGE.\n",
    "```\n",
    "<details>"
   ]
  },
  {
   "cell_type": "markdown",
   "metadata": {
    "id": "_YPwTneNwC64"
   },
   "source": [
    "Here we will learn about one of the nicest things about python -- the modular nature of object oriented programming. \n",
    "\n",
    "Importing modules lets you load particular code into your instance of Python and use only the ones needed.  \n",
    "\n",
    "For example, we can import one section or function of a given code instead of loading the entire package. Available modules are based on your current path / environment variables and your current instillation of python.\n",
    "\n",
    "You can import the package ```sys``` (system) and take a glance at what paths (folders/directories) python has access to when importing.\n",
    "\n",
    "---\n",
    "\n",
    "```Reading: Kinder, Nelson Section 4 and Appendix B```\n"
   ]
  },
  {
   "cell_type": "code",
   "execution_count": 1,
   "metadata": {
    "colab": {
     "base_uri": "https://localhost:8080/"
    },
    "id": "-g7iivNAb5Q7",
    "outputId": "afe14cb2-9884-432f-f19e-09c6881455f6",
    "tags": []
   },
   "outputs": [
    {
     "data": {
      "text/plain": [
       "['c:\\\\Users\\\\Bex\\\\OneDrive\\\\Documents\\\\CSU\\\\2024-Spring\\\\BIOM421\\\\CourseMaterials\\\\Module1-PreliminaryPython',\n",
       " 'c:\\\\Users\\\\Bex\\\\anaconda3\\\\envs\\\\biom421env\\\\python311.zip',\n",
       " 'c:\\\\Users\\\\Bex\\\\anaconda3\\\\envs\\\\biom421env\\\\DLLs',\n",
       " 'c:\\\\Users\\\\Bex\\\\anaconda3\\\\envs\\\\biom421env\\\\Lib',\n",
       " 'c:\\\\Users\\\\Bex\\\\anaconda3\\\\envs\\\\biom421env',\n",
       " '',\n",
       " 'c:\\\\Users\\\\Bex\\\\anaconda3\\\\envs\\\\biom421env\\\\Lib\\\\site-packages',\n",
       " 'c:\\\\Users\\\\Bex\\\\anaconda3\\\\envs\\\\biom421env\\\\Lib\\\\site-packages\\\\win32',\n",
       " 'c:\\\\Users\\\\Bex\\\\anaconda3\\\\envs\\\\biom421env\\\\Lib\\\\site-packages\\\\win32\\\\lib',\n",
       " 'c:\\\\Users\\\\Bex\\\\anaconda3\\\\envs\\\\biom421env\\\\Lib\\\\site-packages\\\\Pythonwin']"
      ]
     },
     "execution_count": 1,
     "metadata": {},
     "output_type": "execute_result"
    }
   ],
   "source": [
    "import os, sys\n",
    "sys.path  #current paths python has"
   ]
  },
  {
   "cell_type": "markdown",
   "metadata": {
    "id": "0L49iqF6J3gI"
   },
   "source": [
    "Let's take a glance at what we have installed by default in Google Colab! (its a lot). To do this we are going to call ```pip```, ```pip``` is the main package manager for Python and comes included since Python 3. ```pip```connects to [PyPI](https://pypi.org/), the python package index where people are free to release code and modules that they have developed.\n",
    "\n",
    "**Tip - The exclamation point below tells Google Colab to run this command in the background unix kernel, as if this were a terminal or command prompt input.** By calling ```!pip list``` or ```%pip list``` we are telling colab to list every package."
   ]
  },
  {
   "cell_type": "code",
   "execution_count": 2,
   "metadata": {
    "colab": {
     "base_uri": "https://localhost:8080/"
    },
    "id": "U9pWqC3qKG94",
    "outputId": "6b622281-dd29-4494-d4fb-38b5ac066793",
    "tags": []
   },
   "outputs": [
    {
     "name": "stdout",
     "output_type": "stream",
     "text": [
      "Package                       Version\n",
      "----------------------------- ------------\n",
      "alabaster                     0.7.12\n",
      "anyio                         4.2.0\n",
      "argon2-cffi                   23.1.0\n",
      "argon2-cffi-bindings          21.2.0\n",
      "arrow                         1.2.3\n",
      "astroid                       2.14.2\n",
      "asttokens                     2.0.5\n",
      "async-lru                     2.0.4\n",
      "atomicwrites                  1.4.0\n",
      "attrs                         23.1.0\n",
      "autopep8                      1.6.0\n",
      "Babel                         2.11.0\n",
      "backcall                      0.2.0\n",
      "backports.functools-lru-cache 2.0.0\n",
      "bcrypt                        3.2.0\n",
      "beautifulsoup4                4.12.2\n",
      "binaryornot                   0.4.4\n",
      "biopython                     1.82\n",
      "black                         23.11.0\n",
      "bleach                        4.1.0\n",
      "Bottleneck                    1.3.5\n",
      "Brotli                        1.0.9\n",
      "certifi                       2023.11.17\n",
      "cffi                          1.16.0\n",
      "chardet                       4.0.0\n",
      "charset-normalizer            2.0.4\n",
      "click                         8.1.7\n",
      "cloudpickle                   2.2.1\n",
      "colorama                      0.4.6\n",
      "comm                          0.1.2\n",
      "contourpy                     1.2.0\n",
      "cookiecutter                  2.5.0\n",
      "cryptography                  41.0.7\n",
      "cycler                        0.11.0\n",
      "cytoolz                       0.12.2\n",
      "dask                          2023.11.0\n",
      "debugpy                       1.6.7\n",
      "decorator                     5.1.1\n",
      "defusedxml                    0.7.1\n",
      "diff-match-patch              20200713\n",
      "dill                          0.3.7\n",
      "docstring-to-markdown         0.11\n",
      "docutils                      0.18.1\n",
      "exceptiongroup                1.2.0\n",
      "executing                     0.8.3\n",
      "fastjsonschema                2.16.2\n",
      "flake8                        6.0.0\n",
      "fonttools                     4.25.0\n",
      "fqdn                          1.5.1\n",
      "fsspec                        2023.10.0\n",
      "gmpy2                         2.1.2\n",
      "idna                          3.4\n",
      "imagecodecs                   2023.1.23\n",
      "imageio                       2.31.4\n",
      "imagesize                     1.4.1\n",
      "importlib-metadata            6.0.0\n",
      "inflection                    0.5.1\n",
      "intervaltree                  3.1.0\n",
      "ipykernel                     6.28.0\n",
      "ipython                       8.15.0\n",
      "ipython-genutils              0.2.0\n",
      "isoduration                   20.11.0\n",
      "isort                         5.9.3\n",
      "jaraco.classes                3.2.1\n",
      "jedi                          0.18.1\n",
      "jellyfish                     1.0.1\n",
      "Jinja2                        3.1.2\n",
      "joblib                        1.3.2\n",
      "json5                         0.9.14\n",
      "jsonpointer                   2.4\n",
      "jsonschema                    4.19.2\n",
      "jsonschema-specifications     2023.12.1\n",
      "jupyter_client                8.6.0\n",
      "jupyter_core                  5.5.0\n",
      "jupyter-events                0.9.0\n",
      "jupyter-lsp                   2.2.1\n",
      "jupyter_server                2.12.1\n",
      "jupyter_server_terminals      0.5.1\n",
      "jupyterlab                    4.0.9\n",
      "jupyterlab-pygments           0.2.2\n",
      "jupyterlab_server             2.25.2\n",
      "keyring                       23.13.1\n",
      "kiwisolver                    1.4.4\n",
      "lazy_loader                   0.3\n",
      "lazy-object-proxy             1.6.0\n",
      "locket                        1.0.0\n",
      "markdown-it-py                2.2.0\n",
      "MarkupSafe                    2.1.3\n",
      "matplotlib                    3.8.0\n",
      "matplotlib-inline             0.1.6\n",
      "mccabe                        0.7.0\n",
      "mdurl                         0.1.0\n",
      "mistune                       2.0.4\n",
      "mkl-fft                       1.3.8\n",
      "mkl-random                    1.2.4\n",
      "mkl-service                   2.4.0\n",
      "more-itertools                10.1.0\n",
      "mpmath                        1.3.0\n",
      "mypy-extensions               1.0.0\n",
      "nbclient                      0.8.0\n",
      "nbconvert                     7.10.0\n",
      "nbformat                      5.9.2\n",
      "nest-asyncio                  1.5.6\n",
      "networkx                      3.1\n",
      "notebook                      7.0.6\n",
      "notebook_shim                 0.2.3\n",
      "numexpr                       2.8.7\n",
      "numpy                         1.26.2\n",
      "numpydoc                      1.5.0\n",
      "overrides                     7.4.0\n",
      "packaging                     23.1\n",
      "pandas                        2.0.3\n",
      "pandocfilters                 1.5.0\n",
      "paramiko                      2.8.1\n",
      "parso                         0.8.3\n",
      "partd                         1.4.1\n",
      "pathspec                      0.10.3\n",
      "pexpect                       4.8.0\n",
      "pickleshare                   0.7.5\n",
      "Pillow                        10.0.1\n",
      "pip                           23.3.1\n",
      "platformdirs                  4.1.0\n",
      "pluggy                        1.0.0\n",
      "ply                           3.11\n",
      "prometheus-client             0.19.0\n",
      "prompt-toolkit                3.0.36\n",
      "psutil                        5.9.0\n",
      "ptyprocess                    0.7.0\n",
      "pure-eval                     0.2.2\n",
      "pycodestyle                   2.10.0\n",
      "pycparser                     2.21\n",
      "pydocstyle                    6.3.0\n",
      "pyflakes                      3.0.1\n",
      "Pygments                      2.15.1\n",
      "pylint                        2.16.2\n",
      "pylint-venv                   2.3.0\n",
      "pyls-spyder                   0.4.0\n",
      "pyMSAviz                      0.4.2\n",
      "PyNaCl                        1.5.0\n",
      "pyOpenSSL                     23.2.0\n",
      "pyparsing                     3.0.9\n",
      "PyQt5                         5.15.10\n",
      "PyQt5-sip                     12.13.0\n",
      "PyQtWebEngine                 5.15.6\n",
      "PySocks                       1.7.1\n",
      "python-dateutil               2.8.2\n",
      "python-json-logger            2.0.7\n",
      "python-lsp-black              1.2.1\n",
      "python-lsp-jsonrpc            1.0.0\n",
      "python-lsp-server             1.7.2\n",
      "python-slugify                5.0.2\n",
      "pytoolconfig                  1.2.6\n",
      "pytz                          2023.3.post1\n",
      "PyWavelets                    1.4.1\n",
      "pywin32                       305.1\n",
      "pywin32-ctypes                0.2.0\n",
      "pywinpty                      2.0.12\n",
      "PyYAML                        6.0.1\n",
      "pyzmq                         25.1.0\n",
      "QDarkStyle                    3.0.2\n",
      "qstylizer                     0.2.2\n",
      "QtAwesome                     1.2.2\n",
      "qtconsole                     5.4.2\n",
      "QtPy                          2.4.1\n",
      "referencing                   0.30.2\n",
      "requests                      2.31.0\n",
      "rfc3339-validator             0.1.4\n",
      "rfc3986-validator             0.1.1\n",
      "rich                          13.3.5\n",
      "rope                          1.7.0\n",
      "rpds-py                       0.10.6\n",
      "Rtree                         1.0.1\n",
      "scikit-image                  0.20.0\n",
      "scikit-learn                  1.4.0\n",
      "scipy                         1.11.4\n",
      "Send2Trash                    1.8.2\n",
      "setuptools                    68.2.2\n",
      "sip                           6.7.12\n",
      "six                           1.16.0\n",
      "sniffio                       1.3.0\n",
      "snowballstemmer               2.2.0\n",
      "sortedcontainers              2.4.0\n",
      "soupsieve                     2.5\n",
      "Sphinx                        5.0.2\n",
      "sphinxcontrib-applehelp       1.0.2\n",
      "sphinxcontrib-devhelp         1.0.2\n",
      "sphinxcontrib-htmlhelp        2.0.0\n",
      "sphinxcontrib-jsmath          1.0.1\n",
      "sphinxcontrib-qthelp          1.0.3\n",
      "sphinxcontrib-serializinghtml 1.1.5\n",
      "spyder                        5.4.3\n",
      "spyder-kernels                2.4.4\n",
      "stack-data                    0.2.0\n",
      "sympy                         1.12\n",
      "terminado                     0.18.0\n",
      "text-unidecode                1.3\n",
      "textdistance                  4.2.1\n",
      "threadpoolctl                 3.2.0\n",
      "three-merge                   0.1.1\n",
      "tifffile                      2023.4.12\n",
      "tinycss2                      1.2.1\n",
      "toml                          0.10.2\n",
      "tomlkit                       0.11.1\n",
      "toolz                         0.12.0\n",
      "tornado                       6.3.3\n",
      "traitlets                     5.7.1\n",
      "types-python-dateutil         2.8.19.14\n",
      "typing_extensions             4.9.0\n",
      "tzdata                        2023.3\n",
      "ujson                         5.4.0\n",
      "Unidecode                     1.2.0\n",
      "uri-template                  1.3.0\n",
      "urllib3                       1.26.18\n",
      "watchdog                      2.1.6\n",
      "wcwidth                       0.2.5\n",
      "webcolors                     1.13\n",
      "webencodings                  0.5.1\n",
      "websocket-client              1.7.0\n",
      "whatthepatch                  1.0.2\n",
      "wheel                         0.41.2\n",
      "win-inet-pton                 1.1.0\n",
      "wrapt                         1.14.1\n",
      "yapf                          0.31.0\n",
      "zipp                          3.11.0\n",
      "Note: you may need to restart the kernel to use updated packages.\n"
     ]
    }
   ],
   "source": [
    "%pip list"
   ]
  },
  {
   "cell_type": "markdown",
   "metadata": {
    "id": "28duHFCsWYjS"
   },
   "source": [
    "## 1) Importing, Using, and Installing packages"
   ]
  },
  {
   "cell_type": "markdown",
   "metadata": {
    "id": "Ac061_wIM64K"
   },
   "source": [
    "To get information about any of these modules, we need to import bs4 and then use ```!module?``` or help(module) to get additional information about this package. What is displayed is from a specifically formatted comment called a docstring (documentation string) that comes along with the package."
   ]
  },
  {
   "cell_type": "code",
   "execution_count": 3,
   "metadata": {
    "id": "MOBgOvXAMt9x",
    "tags": []
   },
   "outputs": [
    {
     "name": "stdout",
     "output_type": "stream",
     "text": [
      "\u001b[1;31mType:\u001b[0m        module\n",
      "\u001b[1;31mString form:\u001b[0m <module 'bs4' from 'c:\\\\Users\\\\Bex\\\\anaconda3\\\\envs\\\\biom421env\\\\Lib\\\\site-packages\\\\bs4\\\\__init__.py'>\n",
      "\u001b[1;31mFile:\u001b[0m        c:\\users\\bex\\anaconda3\\envs\\biom421env\\lib\\site-packages\\bs4\\__init__.py\n",
      "\u001b[1;31mDocstring:\u001b[0m  \n",
      "Beautiful Soup Elixir and Tonic - \"The Screen-Scraper's Friend\".\n",
      "\n",
      "http://www.crummy.com/software/BeautifulSoup/\n",
      "\n",
      "Beautiful Soup uses a pluggable XML or HTML parser to parse a\n",
      "(possibly invalid) document into a tree representation. Beautiful Soup\n",
      "provides methods and Pythonic idioms that make it easy to navigate,\n",
      "search, and modify the parse tree.\n",
      "\n",
      "Beautiful Soup works with Python 3.6 and up. It works better if lxml\n",
      "and/or html5lib is installed.\n",
      "\n",
      "For more than you ever wanted to know about Beautiful Soup, see the\n",
      "documentation: http://www.crummy.com/software/BeautifulSoup/bs4/doc/"
     ]
    }
   ],
   "source": [
    "import bs4\n",
    "# If we want to learn more about a module, we can use the help command !(name)?\n",
    "!bs4?"
   ]
  },
  {
   "cell_type": "markdown",
   "metadata": {
    "id": "_gTByrOwWrD8"
   },
   "source": [
    "### 1.A) importing different packages or sub-modules\n",
    "\n",
    "```import``` in Python is the command to load in a particular ```package``` (large collection of code with several submodules) or ```module``` (single files up to medium sized classes).\n",
    "\n",
    "When you import you have several options:\n",
    "\n",
    "```python\n",
    "# import the entire package all at once\n",
    "import numpy\n",
    "\n",
    "# import the package and use a (simpler) variable name, \"np\" to refer to it\n",
    "import numpy as np\n",
    "\n",
    "# import a specific submodule or function from the package\n",
    "from numpy import linalg as la\n",
    "\n",
    "# importing one function only from the sub - module linear algebra contained in numpy\n",
    "from numpy.linalg import svd as svd\n",
    "```"
   ]
  },
  {
   "cell_type": "code",
   "execution_count": 4,
   "metadata": {
    "colab": {
     "base_uri": "https://localhost:8080/",
     "height": 36
    },
    "id": "bXXO_iNVvbqP",
    "outputId": "9ae649ce-6979-4a5f-c02f-8728eb4a3790",
    "tags": []
   },
   "outputs": [
    {
     "data": {
      "text/plain": [
       "'1.26.2'"
      ]
     },
     "execution_count": 4,
     "metadata": {},
     "output_type": "execute_result"
    }
   ],
   "source": [
    "import numpy as np\n",
    "# if we want to know the version:\n",
    "np.__version__"
   ]
  },
  {
   "cell_type": "code",
   "execution_count": 5,
   "metadata": {
    "colab": {
     "base_uri": "https://localhost:8080/",
     "height": 36
    },
    "id": "TNCoa_yYWqdz",
    "outputId": "8ad54838-fd35-4c74-90f3-65eaf4a71c1a",
    "tags": []
   },
   "outputs": [
    {
     "data": {
      "text/plain": [
       "'c:\\\\Users\\\\Bex\\\\anaconda3\\\\envs\\\\biom421env\\\\Lib\\\\site-packages\\\\numpy\\\\linalg\\\\__init__.py'"
      ]
     },
     "execution_count": 5,
     "metadata": {},
     "output_type": "execute_result"
    }
   ],
   "source": [
    "from numpy import linalg as la #import only the linear algebra file\n",
    "# or if we want to know where a specific file is:\n",
    "la.__file__"
   ]
  },
  {
   "cell_type": "code",
   "execution_count": 6,
   "metadata": {
    "tags": []
   },
   "outputs": [
    {
     "data": {
      "text/plain": [
       "'\\n``numpy.linalg``\\n================\\n\\nThe NumPy linear algebra functions rely on BLAS and LAPACK to provide efficient\\nlow level implementations of standard linear algebra algorithms. Those\\nlibraries may be provided by NumPy itself using C versions of a subset of their\\nreference implementations but, when possible, highly optimized libraries that\\ntake advantage of specialized processor functionality are preferred. Examples\\nof such libraries are OpenBLAS, MKL (TM), and ATLAS. Because those libraries\\nare multithreaded and processor dependent, environmental variables and external\\npackages such as threadpoolctl may be needed to control the number of threads\\nor specify the processor architecture.\\n\\n- OpenBLAS: https://www.openblas.net/\\n- threadpoolctl: https://github.com/joblib/threadpoolctl\\n\\nPlease note that the most-used linear algebra functions in NumPy are present in\\nthe main ``numpy`` namespace rather than in ``numpy.linalg``.  There are:\\n``dot``, ``vdot``, ``inner``, ``outer``, ``matmul``, ``tensordot``, ``einsum``,\\n``einsum_path`` and ``kron``.\\n\\nFunctions present in numpy.linalg are listed below.\\n\\n\\nMatrix and vector products\\n--------------------------\\n\\n   multi_dot\\n   matrix_power\\n\\nDecompositions\\n--------------\\n\\n   cholesky\\n   qr\\n   svd\\n\\nMatrix eigenvalues\\n------------------\\n\\n   eig\\n   eigh\\n   eigvals\\n   eigvalsh\\n\\nNorms and other numbers\\n-----------------------\\n\\n   norm\\n   cond\\n   det\\n   matrix_rank\\n   slogdet\\n\\nSolving equations and inverting matrices\\n----------------------------------------\\n\\n   solve\\n   tensorsolve\\n   lstsq\\n   inv\\n   pinv\\n   tensorinv\\n\\nExceptions\\n----------\\n\\n   LinAlgError\\n\\n'"
      ]
     },
     "execution_count": 6,
     "metadata": {},
     "output_type": "execute_result"
    }
   ],
   "source": [
    "# or if we want just the docstring:\n",
    "la.__doc__"
   ]
  },
  {
   "cell_type": "code",
   "execution_count": 7,
   "metadata": {
    "id": "FT5tUqRVYAOl",
    "tags": []
   },
   "outputs": [
    {
     "name": "stdout",
     "output_type": "stream",
     "text": [
      "\u001b[1;31mSignature:\u001b[0m       \u001b[0msvd\u001b[0m\u001b[1;33m(\u001b[0m\u001b[0ma\u001b[0m\u001b[1;33m,\u001b[0m \u001b[0mfull_matrices\u001b[0m\u001b[1;33m=\u001b[0m\u001b[1;32mTrue\u001b[0m\u001b[1;33m,\u001b[0m \u001b[0mcompute_uv\u001b[0m\u001b[1;33m=\u001b[0m\u001b[1;32mTrue\u001b[0m\u001b[1;33m,\u001b[0m \u001b[0mhermitian\u001b[0m\u001b[1;33m=\u001b[0m\u001b[1;32mFalse\u001b[0m\u001b[1;33m)\u001b[0m\u001b[1;33m\u001b[0m\u001b[1;33m\u001b[0m\u001b[0m\n",
      "\u001b[1;31mCall signature:\u001b[0m  \u001b[0msvd\u001b[0m\u001b[1;33m(\u001b[0m\u001b[1;33m*\u001b[0m\u001b[0margs\u001b[0m\u001b[1;33m,\u001b[0m \u001b[1;33m**\u001b[0m\u001b[0mkwargs\u001b[0m\u001b[1;33m)\u001b[0m\u001b[1;33m\u001b[0m\u001b[1;33m\u001b[0m\u001b[0m\n",
      "\u001b[1;31mType:\u001b[0m            _ArrayFunctionDispatcher\n",
      "\u001b[1;31mString form:\u001b[0m     <function svd at 0x00000174BE1EE700>\n",
      "\u001b[1;31mFile:\u001b[0m            c:\\users\\bex\\anaconda3\\envs\\biom421env\\lib\\site-packages\\numpy\\linalg\\linalg.py\n",
      "\u001b[1;31mDocstring:\u001b[0m      \n",
      "Singular Value Decomposition.\n",
      "\n",
      "When `a` is a 2D array, and ``full_matrices=False``, then it is\n",
      "factorized as ``u @ np.diag(s) @ vh = (u * s) @ vh``, where\n",
      "`u` and the Hermitian transpose of `vh` are 2D arrays with\n",
      "orthonormal columns and `s` is a 1D array of `a`'s singular\n",
      "values. When `a` is higher-dimensional, SVD is applied in\n",
      "stacked mode as explained below.\n",
      "\n",
      "Parameters\n",
      "----------\n",
      "a : (..., M, N) array_like\n",
      "    A real or complex array with ``a.ndim >= 2``.\n",
      "full_matrices : bool, optional\n",
      "    If True (default), `u` and `vh` have the shapes ``(..., M, M)`` and\n",
      "    ``(..., N, N)``, respectively.  Otherwise, the shapes are\n",
      "    ``(..., M, K)`` and ``(..., K, N)``, respectively, where\n",
      "    ``K = min(M, N)``.\n",
      "compute_uv : bool, optional\n",
      "    Whether or not to compute `u` and `vh` in addition to `s`.  True\n",
      "    by default.\n",
      "hermitian : bool, optional\n",
      "    If True, `a` is assumed to be Hermitian (symmetric if real-valued),\n",
      "    enabling a more efficient method for finding singular values.\n",
      "    Defaults to False.\n",
      "\n",
      "    .. versionadded:: 1.17.0\n",
      "\n",
      "Returns\n",
      "-------\n",
      "When `compute_uv` is True, the result is a namedtuple with the following\n",
      "attribute names:\n",
      "\n",
      "U : { (..., M, M), (..., M, K) } array\n",
      "    Unitary array(s). The first ``a.ndim - 2`` dimensions have the same\n",
      "    size as those of the input `a`. The size of the last two dimensions\n",
      "    depends on the value of `full_matrices`. Only returned when\n",
      "    `compute_uv` is True.\n",
      "S : (..., K) array\n",
      "    Vector(s) with the singular values, within each vector sorted in\n",
      "    descending order. The first ``a.ndim - 2`` dimensions have the same\n",
      "    size as those of the input `a`.\n",
      "Vh : { (..., N, N), (..., K, N) } array\n",
      "    Unitary array(s). The first ``a.ndim - 2`` dimensions have the same\n",
      "    size as those of the input `a`. The size of the last two dimensions\n",
      "    depends on the value of `full_matrices`. Only returned when\n",
      "    `compute_uv` is True.\n",
      "\n",
      "Raises\n",
      "------\n",
      "LinAlgError\n",
      "    If SVD computation does not converge.\n",
      "\n",
      "See Also\n",
      "--------\n",
      "scipy.linalg.svd : Similar function in SciPy.\n",
      "scipy.linalg.svdvals : Compute singular values of a matrix.\n",
      "\n",
      "Notes\n",
      "-----\n",
      "\n",
      ".. versionchanged:: 1.8.0\n",
      "   Broadcasting rules apply, see the `numpy.linalg` documentation for\n",
      "   details.\n",
      "\n",
      "The decomposition is performed using LAPACK routine ``_gesdd``.\n",
      "\n",
      "SVD is usually described for the factorization of a 2D matrix :math:`A`.\n",
      "The higher-dimensional case will be discussed below. In the 2D case, SVD is\n",
      "written as :math:`A = U S V^H`, where :math:`A = a`, :math:`U= u`,\n",
      ":math:`S= \\mathtt{np.diag}(s)` and :math:`V^H = vh`. The 1D array `s`\n",
      "contains the singular values of `a` and `u` and `vh` are unitary. The rows\n",
      "of `vh` are the eigenvectors of :math:`A^H A` and the columns of `u` are\n",
      "the eigenvectors of :math:`A A^H`. In both cases the corresponding\n",
      "(possibly non-zero) eigenvalues are given by ``s**2``.\n",
      "\n",
      "If `a` has more than two dimensions, then broadcasting rules apply, as\n",
      "explained in :ref:`routines.linalg-broadcasting`. This means that SVD is\n",
      "working in \"stacked\" mode: it iterates over all indices of the first\n",
      "``a.ndim - 2`` dimensions and for each combination SVD is applied to the\n",
      "last two indices. The matrix `a` can be reconstructed from the\n",
      "decomposition with either ``(u * s[..., None, :]) @ vh`` or\n",
      "``u @ (s[..., None] * vh)``. (The ``@`` operator can be replaced by the\n",
      "function ``np.matmul`` for python versions below 3.5.)\n",
      "\n",
      "If `a` is a ``matrix`` object (as opposed to an ``ndarray``), then so are\n",
      "all the return values.\n",
      "\n",
      "Examples\n",
      "--------\n",
      ">>> a = np.random.randn(9, 6) + 1j*np.random.randn(9, 6)\n",
      ">>> b = np.random.randn(2, 7, 8, 3) + 1j*np.random.randn(2, 7, 8, 3)\n",
      "\n",
      "Reconstruction based on full SVD, 2D case:\n",
      "\n",
      ">>> U, S, Vh = np.linalg.svd(a, full_matrices=True)\n",
      ">>> U.shape, S.shape, Vh.shape\n",
      "((9, 9), (6,), (6, 6))\n",
      ">>> np.allclose(a, np.dot(U[:, :6] * S, Vh))\n",
      "True\n",
      ">>> smat = np.zeros((9, 6), dtype=complex)\n",
      ">>> smat[:6, :6] = np.diag(S)\n",
      ">>> np.allclose(a, np.dot(U, np.dot(smat, Vh)))\n",
      "True\n",
      "\n",
      "Reconstruction based on reduced SVD, 2D case:\n",
      "\n",
      ">>> U, S, Vh = np.linalg.svd(a, full_matrices=False)\n",
      ">>> U.shape, S.shape, Vh.shape\n",
      "((9, 6), (6,), (6, 6))\n",
      ">>> np.allclose(a, np.dot(U * S, Vh))\n",
      "True\n",
      ">>> smat = np.diag(S)\n",
      ">>> np.allclose(a, np.dot(U, np.dot(smat, Vh)))\n",
      "True\n",
      "\n",
      "Reconstruction based on full SVD, 4D case:\n",
      "\n",
      ">>> U, S, Vh = np.linalg.svd(b, full_matrices=True)\n",
      ">>> U.shape, S.shape, Vh.shape\n",
      "((2, 7, 8, 8), (2, 7, 3), (2, 7, 3, 3))\n",
      ">>> np.allclose(b, np.matmul(U[..., :3] * S[..., None, :], Vh))\n",
      "True\n",
      ">>> np.allclose(b, np.matmul(U[..., :3], S[..., None] * Vh))\n",
      "True\n",
      "\n",
      "Reconstruction based on reduced SVD, 4D case:\n",
      "\n",
      ">>> U, S, Vh = np.linalg.svd(b, full_matrices=False)\n",
      ">>> U.shape, S.shape, Vh.shape\n",
      "((2, 7, 8, 3), (2, 7, 3), (2, 7, 3, 3))\n",
      ">>> np.allclose(b, np.matmul(U * S[..., None, :], Vh))\n",
      "True\n",
      ">>> np.allclose(b, np.matmul(U, S[..., None] * Vh))\n",
      "True\n",
      "\u001b[1;31mClass docstring:\u001b[0m\n",
      "Class to wrap functions with checks for __array_function__ overrides.\n",
      "\n",
      "All arguments are required, and can only be passed by position.\n",
      "\n",
      "Parameters\n",
      "----------\n",
      "dispatcher : function or None\n",
      "    The dispatcher function that returns a single sequence-like object\n",
      "    of all arguments relevant.  It must have the same signature (except\n",
      "    the default values) as the actual implementation.\n",
      "    If ``None``, this is a ``like=`` dispatcher and the\n",
      "    ``_ArrayFunctionDispatcher`` must be called with ``like`` as the\n",
      "    first (additional and positional) argument.\n",
      "implementation : function\n",
      "    Function that implements the operation on NumPy arrays without\n",
      "    overrides.  Arguments passed calling the ``_ArrayFunctionDispatcher``\n",
      "    will be forwarded to this (and the ``dispatcher``) as if using\n",
      "    ``*args, **kwargs``.\n",
      "\n",
      "Attributes\n",
      "----------\n",
      "_implementation : function\n",
      "    The original implementation passed in."
     ]
    }
   ],
   "source": [
    "from numpy.linalg import svd as svd\n",
    "svd?"
   ]
  },
  {
   "cell_type": "markdown",
   "metadata": {
    "id": "Zhfov8rCmBan",
    "jp-MarkdownHeadingCollapsed": true,
    "tags": []
   },
   "source": [
    "#### Importing local packages\n",
    "You can also write your own packages and then import them, but they folders need to be written in the right format.  To learn more, see the page \"Writing your own callable functions and packages\" on canvas."
   ]
  },
  {
   "cell_type": "markdown",
   "metadata": {
    "id": "F3BLTyKhlX7l",
    "tags": []
   },
   "source": [
    "### 1.B) Using packages\n",
    "\n",
    "Once we have imported a package, you can call any submodules or functions by module.function()"
   ]
  },
  {
   "cell_type": "code",
   "execution_count": 8,
   "metadata": {
    "colab": {
     "base_uri": "https://localhost:8080/"
    },
    "id": "kXotxOskV2TO",
    "outputId": "14037dc8-6096-46c6-8ca5-ad6d4d5bb5c8",
    "tags": []
   },
   "outputs": [
    {
     "data": {
      "text/plain": [
       "SVDResult(U=array([[-3.16227766e-001, -9.48683298e-001,  4.97455036e-016,\n",
       "        -1.64183865e-032,  2.65363603e-048,  3.66649180e-064,\n",
       "        -4.51452809e-080, -4.62203388e-096,  8.58740836e-112,\n",
       "         6.01951638e-128],\n",
       "       [-3.16227766e-001,  1.05409255e-001,  9.42809042e-001,\n",
       "         1.48029737e-016,  3.70074342e-017, -1.85037171e-017,\n",
       "         5.01614233e-081,  5.13559320e-097,  3.70074342e-017,\n",
       "         5.07516775e-018],\n",
       "       [-3.16227766e-001,  1.05409255e-001, -1.17851130e-001,\n",
       "         9.35414347e-001, -6.58854484e-017, -4.21945828e-017,\n",
       "         3.20858489e-065,  3.75686535e-017, -9.53246820e-018,\n",
       "         1.26879194e-018],\n",
       "       [-3.16227766e-001,  1.05409255e-001, -1.17851130e-001,\n",
       "        -1.33630621e-001,  9.25820100e-001, -5.26852043e-017,\n",
       "        -3.82461971e-017,  9.81307787e-018,  4.25915167e-017,\n",
       "         6.18429188e-018],\n",
       "       [-3.16227766e-001,  1.05409255e-001, -1.17851130e-001,\n",
       "        -1.33630621e-001, -1.54303350e-001,  9.12870929e-001,\n",
       "        -1.04906215e-017,  4.88998198e-017, -4.37941718e-017,\n",
       "         2.61707368e-018],\n",
       "       [-3.16227766e-001,  1.05409255e-001, -1.17851130e-001,\n",
       "        -1.33630621e-001, -1.54303350e-001, -1.82574186e-001,\n",
       "         8.94427191e-001,  6.13124905e-017, -2.16080833e-018,\n",
       "         3.62706092e-018],\n",
       "       [-3.16227766e-001,  1.05409255e-001, -1.17851130e-001,\n",
       "        -1.33630621e-001, -1.54303350e-001, -1.82574186e-001,\n",
       "        -2.23606798e-001,  8.66025404e-001, -1.68694262e-016,\n",
       "         2.92917690e-018],\n",
       "       [-3.16227766e-001,  1.05409255e-001, -1.17851130e-001,\n",
       "        -1.33630621e-001, -1.54303350e-001, -1.82574186e-001,\n",
       "        -2.23606798e-001, -2.88675135e-001,  8.16496581e-001,\n",
       "         9.04897062e-017],\n",
       "       [-3.16227766e-001,  1.05409255e-001, -1.17851130e-001,\n",
       "        -1.33630621e-001, -1.54303350e-001, -1.82574186e-001,\n",
       "        -2.23606798e-001, -2.88675135e-001, -4.08248290e-001,\n",
       "        -7.07106781e-001],\n",
       "       [-3.16227766e-001,  1.05409255e-001, -1.17851130e-001,\n",
       "        -1.33630621e-001, -1.54303350e-001, -1.82574186e-001,\n",
       "        -2.23606798e-001, -2.88675135e-001, -4.08248290e-001,\n",
       "         7.07106781e-001]]), S=array([3.16227766e+001, 1.05845026e-014, 4.84597837e-046, 2.28734668e-077,\n",
       "       3.83318903e-108, 2.27155490e-139, 6.84050564e-170, 6.32844224e-201,\n",
       "       2.03100574e-231, 1.45424724e-262]), Vh=array([[-1.00000000e-01, -1.00000000e-01, -1.00000000e-01, ...,\n",
       "        -1.00000000e-01, -1.00000000e-01, -1.00000000e-01],\n",
       "       [ 9.94987437e-01, -1.00503782e-02, -1.00503782e-02, ...,\n",
       "        -1.00503782e-02, -1.00503782e-02, -1.00503782e-02],\n",
       "       [ 1.61817824e-15,  9.94936676e-01, -1.01524151e-02, ...,\n",
       "        -1.01524151e-02, -1.01524151e-02, -1.01524151e-02],\n",
       "       ...,\n",
       "       [-4.00021311e-16,  1.22132287e-16, -1.11132700e-16, ...,\n",
       "         9.90053650e-01, -9.94635018e-03, -9.94635018e-03],\n",
       "       [-4.03414864e-16,  1.09956384e-16, -1.07630733e-16, ...,\n",
       "        -9.94635018e-03,  9.90053650e-01, -9.94635018e-03],\n",
       "       [-4.06591576e-16,  1.13219324e-16, -1.02739146e-16, ...,\n",
       "        -9.94635018e-03, -9.94635018e-03,  9.90053650e-01]]))"
      ]
     },
     "execution_count": 8,
     "metadata": {},
     "output_type": "execute_result"
    }
   ],
   "source": [
    "arr = np.ones([10,100])\n",
    "la.svd(arr)"
   ]
  },
  {
   "cell_type": "markdown",
   "metadata": {
    "id": "PKdiuk7rlSUJ"
   },
   "source": [
    "### 1.C) Installing new packages"
   ]
  },
  {
   "cell_type": "markdown",
   "metadata": {
    "id": "64Q6SW3jNZmp"
   },
   "source": [
    "To find more packages to install, usually they are stored on [PyPI](https://pypi.org/) - Python Package Index. Searching for specific modules is difficult within PyPI, so I recommend finding packages via searching academic papers or Google scholar for your specific purposes and using the authors' particular Githubs!\n",
    "\n",
    "From there you can install a package in Colab by using ```!pip``` according to the package's instructions."
   ]
  },
  {
   "cell_type": "code",
   "execution_count": 9,
   "metadata": {
    "colab": {
     "base_uri": "https://localhost:8080/"
    },
    "id": "-5hjsl9LNyvV",
    "outputId": "b1cb29da-bffe-4d94-c543-25888ce4febe",
    "tags": []
   },
   "outputs": [
    {
     "name": "stdout",
     "output_type": "stream",
     "text": [
      "Requirement already satisfied: biopython in c:\\users\\bex\\anaconda3\\envs\\biom421env\\lib\\site-packages (1.82)\n",
      "Requirement already satisfied: numpy in c:\\users\\bex\\anaconda3\\envs\\biom421env\\lib\\site-packages (from biopython) (1.26.2)\n",
      "\n",
      "The version of BioPython installed:\n",
      "1.82\n"
     ]
    }
   ],
   "source": [
    "# lets install Biopython\n",
    "# https://biopython.org/\n",
    "\n",
    "!pip install biopython\n",
    "import Bio\n",
    "print('')\n",
    "print('The version of BioPython installed:')\n",
    "print(Bio.__version__)"
   ]
  },
  {
   "cell_type": "markdown",
   "metadata": {
    "id": "PafXp9PlKfXO"
   },
   "source": [
    "### 1.D) os - \"operating system\"\n",
    "\n",
    "```os```  is the main package that lets you navigate and change directories for various purposes, similar to how you move around in a command prompt or terminal. ```os``` also performs miscellaneous operating system functions such as changing directories or checking process ids.\n",
    "\n",
    "https://docs.python.org/3/library/os.html\n",
    "\n",
    "\n",
    "Another popular file path manager is ```pathlib```.\n",
    "\n",
    "https://docs.python.org/3/library/pathlib.html"
   ]
  },
  {
   "cell_type": "code",
   "execution_count": 10,
   "metadata": {
    "colab": {
     "base_uri": "https://localhost:8080/"
    },
    "id": "QdBoojYxKQCp",
    "outputId": "29d7b573-9b8c-497d-a4fe-7c38b8d79eaf",
    "tags": []
   },
   "outputs": [
    {
     "name": "stdout",
     "output_type": "stream",
     "text": [
      "c:\\Users\\Bex\\OneDrive\\Documents\\CSU\\2024-Spring\\BIOM421\\CourseMaterials\\Module1-PreliminaryPython\n"
     ]
    }
   ],
   "source": [
    "import os\n",
    "print(os.getcwd())  #what is our current working directory (cwd)?"
   ]
  },
  {
   "cell_type": "markdown",
   "metadata": {
    "id": "cTqlun-uliFG"
   },
   "source": [
    "Once again, for us to import ```os```, the ```os``` module must exist in our system path so Python can \"see\" it.\n",
    "\n"
   ]
  },
  {
   "cell_type": "code",
   "execution_count": 11,
   "metadata": {
    "colab": {
     "base_uri": "https://localhost:8080/"
    },
    "id": "7iP1fyEAlsay",
    "outputId": "a26ee17f-04e4-4ec4-889d-f3949d51e3d1",
    "tags": []
   },
   "outputs": [
    {
     "name": "stdout",
     "output_type": "stream",
     "text": [
      "We are using the following file as the package os:\n",
      "c:\\Users\\Bex\\anaconda3\\envs\\biom421env\\Lib\\os.py\n",
      "\n",
      "Here is our current sys.path:\n",
      "['c:\\\\Users\\\\Bex\\\\OneDrive\\\\Documents\\\\CSU\\\\2024-Spring\\\\BIOM421\\\\CourseMaterials\\\\Module1-PreliminaryPython', 'c:\\\\Users\\\\Bex\\\\anaconda3\\\\envs\\\\biom421env\\\\python311.zip', 'c:\\\\Users\\\\Bex\\\\anaconda3\\\\envs\\\\biom421env\\\\DLLs', 'c:\\\\Users\\\\Bex\\\\anaconda3\\\\envs\\\\biom421env\\\\Lib', 'c:\\\\Users\\\\Bex\\\\anaconda3\\\\envs\\\\biom421env', '', 'c:\\\\Users\\\\Bex\\\\anaconda3\\\\envs\\\\biom421env\\\\Lib\\\\site-packages', 'c:\\\\Users\\\\Bex\\\\anaconda3\\\\envs\\\\biom421env\\\\Lib\\\\site-packages\\\\win32', 'c:\\\\Users\\\\Bex\\\\anaconda3\\\\envs\\\\biom421env\\\\Lib\\\\site-packages\\\\win32\\\\lib', 'c:\\\\Users\\\\Bex\\\\anaconda3\\\\envs\\\\biom421env\\\\Lib\\\\site-packages\\\\Pythonwin']\n"
     ]
    }
   ],
   "source": [
    "print('We are using the following file as the package os:')\n",
    "print(os.__file__) # Print the actual file that we imported the os packages from\n",
    "print('')\n",
    "print('Here is our current sys.path:')\n",
    "print(sys.path)\n",
    "# Note how this file we just imported from is inside our path!"
   ]
  },
  {
   "cell_type": "markdown",
   "metadata": {},
   "source": [
    "Let's take a look at our current directory and its files using the ```os``` module:"
   ]
  },
  {
   "cell_type": "code",
   "execution_count": 12,
   "metadata": {
    "colab": {
     "base_uri": "https://localhost:8080/"
    },
    "id": "3-f8NhJbLH1e",
    "outputId": "fb03cf7c-bda6-4c18-a929-e5ae232e5a9d",
    "tags": []
   },
   "outputs": [
    {
     "data": {
      "text/plain": [
       "['.ipynb_checkpoints',\n",
       " 'cheatsheets-1.png',\n",
       " 'GeneRegulationAssignment.ipynb',\n",
       " 'M1A_InClassReview.ipynb',\n",
       " 'M1A_Intro_to_Python.ipynb',\n",
       " 'M1B_Python_Loops_and_Functions.ipynb',\n",
       " 'M1B_Python_Loops_and_Functions_InClassExercises.ipynb',\n",
       " 'M1C_Packages_and_File_Management.ipynb',\n",
       " 'M1D_InClassExample_PCA.ipynb',\n",
       " 'M1D_NumPy_and_Linear_Algebra.ipynb',\n",
       " 'M1E_Matplotlib.ipynb',\n",
       " 'sampleData',\n",
       " 'StudentColdCaller.ipynb']"
      ]
     },
     "execution_count": 12,
     "metadata": {},
     "output_type": "execute_result"
    }
   ],
   "source": [
    "#list all files in a directory, '.' denotes our current working directory\n",
    "os.listdir('.')"
   ]
  },
  {
   "cell_type": "markdown",
   "metadata": {
    "id": "H_s-6Nz_XrhJ"
   },
   "source": [
    "```os``` uses Unix-like paths:\n",
    "\n",
    "``` .``` a single period denotes my current working directory\n",
    "\n",
    "``` ..``` a single period denotes one parent folder above my current working directory\n",
    "\n",
    "``` ~``` a tilde represents the current users home directory"
   ]
  },
  {
   "cell_type": "code",
   "execution_count": 13,
   "metadata": {
    "colab": {
     "base_uri": "https://localhost:8080/"
    },
    "id": "za-SJ9P6YbxV",
    "outputId": "58144aaf-73ff-416f-c7d7-9186f931c2bb",
    "tags": []
   },
   "outputs": [
    {
     "name": "stdout",
     "output_type": "stream",
     "text": [
      "Files and folders in my current directory\n",
      "['.ipynb_checkpoints', 'cheatsheets-1.png', 'GeneRegulationAssignment.ipynb', 'M1A_InClassReview.ipynb', 'M1A_Intro_to_Python.ipynb', 'M1B_Python_Loops_and_Functions.ipynb', 'M1B_Python_Loops_and_Functions_InClassExercises.ipynb', 'M1C_Packages_and_File_Management.ipynb', 'M1D_InClassExample_PCA.ipynb', 'M1D_NumPy_and_Linear_Algebra.ipynb', 'M1E_Matplotlib.ipynb', 'sampleData', 'StudentColdCaller.ipynb']\n",
      "\n",
      "Files and folders one directory above my current directory\n",
      "['.git', '.gitignore', 'biom421', 'LICENSE', 'Module1-PreliminaryPython', 'Module2-Bioinformatics', 'README.md']\n"
     ]
    }
   ],
   "source": [
    "print('Files and folders in my current directory')\n",
    "print(os.listdir('.'))\n",
    "print('')\n",
    "print('Files and folders one directory above my current directory')\n",
    "print(os.listdir('..'))"
   ]
  },
  {
   "cell_type": "code",
   "execution_count": 14,
   "metadata": {
    "colab": {
     "base_uri": "https://localhost:8080/"
    },
    "id": "QBcoaAM2Yw6N",
    "outputId": "f19c6ea1-ac40-4d80-9104-61de3a4fd8f3",
    "tags": []
   },
   "outputs": [
    {
     "name": "stdout",
     "output_type": "stream",
     "text": [
      "C:\\Users\\Bex\n"
     ]
    }
   ],
   "source": [
    "print(os.path.expanduser('~'))"
   ]
  },
  {
   "cell_type": "markdown",
   "metadata": {
    "id": "XntLwYNAGan2"
   },
   "source": [
    "## 2) Reading and Writing files\n",
    "\n",
    "Opening a file is done with \"open\" and opens a buffer to a particular file on your hard drive. It's best practice to use ``` with open() as object:``` so the buffer closes on its own after the execution of code within the ``` with ``` is over. Typically you may see people use ```f``` to denote their file buffer object.\n",
    "\n",
    " ```python\n",
    "with open('example.txt', 'w') as f:\n",
    "    print(f.readlines)\n",
    "    \n",
    " ```\n",
    "\n",
    " ```open``` takes an additional flag to denote whether you are reading, ```'r'```, writing, ```'w'```, or appending ```'a'``` a file.\n",
    "\n",
    "Additonally, if you are not reading a text file, you may have to read / write a file in binary mode, ```'b'```, by appending b to your flag (```'wb'``` would mean write in binary mode)."
   ]
  },
  {
   "cell_type": "code",
   "execution_count": 15,
   "metadata": {
    "colab": {
     "base_uri": "https://localhost:8080/"
    },
    "id": "KKXaUdW_Gkbd",
    "outputId": "8e8d90c7-fe19-4184-cab9-fd28ba9fde41",
    "tags": []
   },
   "outputs": [
    {
     "data": {
      "text/plain": [
       "['hi im some lines to write to a file \\n', '1\\n', '2\\n', '3\\n']"
      ]
     },
     "execution_count": 15,
     "metadata": {},
     "output_type": "execute_result"
    }
   ],
   "source": [
    "text_lines = ['hi im some lines to write to a file \\n', '1\\n','2\\n','3\\n']\n",
    "# \\n is a newline character, ie pressing enter\n",
    "\n",
    "# im writing a regular text file, 'w'\n",
    "with open('test.txt','w') as f:\n",
    "  f.writelines(text_lines)\n",
    "\n",
    "# im opening a file to read it, 'r'\n",
    "with open('test.txt','r') as f:\n",
    "  read_in_lines = f.readlines()\n",
    "\n",
    "read_in_lines\n"
   ]
  },
  {
   "cell_type": "markdown",
   "metadata": {
    "id": "ANovnKhdPwnA"
   },
   "source": [
    "Try opening the file we just made on the right, under the folder icon!\n",
    "\n",
    "We can also write in binary mode and see what that looks like:"
   ]
  },
  {
   "cell_type": "code",
   "execution_count": null,
   "metadata": {
    "colab": {
     "base_uri": "https://localhost:8080/"
    },
    "id": "PI5MVzT4Hq6E",
    "outputId": "8c452080-d12a-46f7-9196-2c7f53f44a95",
    "tags": []
   },
   "outputs": [],
   "source": [
    "import numpy as np\n",
    "\n",
    "# lets write some arbitrary array to a file as binary\n",
    "print('writing array to bin file:')\n",
    "array = np.array([5,1,4,2,3,6])\n",
    "print(array)\n",
    "with open('test.bin','wb') as f:\n",
    "  for i in array:\n",
    "    f.write(i)\n",
    "\n",
    "# lets use the kernel to print out what is stored in the binary file\n",
    "print('')\n",
    "print('stored in file:')\n",
    "!head test.bin\n",
    "print('')\n",
    "\n",
    "\n",
    "# lets read that back into python\n",
    "with open('test.bin','rb') as f:\n",
    "  bitarray = []\n",
    "  byte = f.read(1)\n",
    "  bitarray.append(byte)\n",
    "  while byte != b\"\":\n",
    "    byte = f.read(1)\n",
    "    bitarray.append(byte)\n",
    "\n",
    "# converting back from a byte array to a usable numpy array\n",
    "print('')\n",
    "read_array = []\n",
    "for i in range(int(len(bitarray)/8) ):\n",
    "  read_array.append(b''.join(bitarray[i*8:8 + i*8]))\n",
    "read_array = [int.from_bytes(x,byteorder='little') for x in read_array]\n",
    "\n",
    "print('array after read back in:')\n",
    "print(read_array)"
   ]
  },
  {
   "cell_type": "markdown",
   "metadata": {
    "id": "gGUrc4qghP3E"
   },
   "source": [
    "We will see more about numpy later, but for now you can also save a numpy array to its own file format using ```np.save(file, array)```"
   ]
  },
  {
   "cell_type": "code",
   "execution_count": null,
   "metadata": {
    "colab": {
     "base_uri": "https://localhost:8080/"
    },
    "id": "LUrrhOXShNuw",
    "outputId": "9082a5b3-a0c7-4cd6-9895-ee97d111000c",
    "tags": []
   },
   "outputs": [],
   "source": [
    "np.save('test.npy', array)\n",
    "# print out this new file\n",
    "!head test.npy"
   ]
  },
  {
   "cell_type": "markdown",
   "metadata": {
    "id": "K84SSQMcGj22"
   },
   "source": [
    "## 3) Pandas file management\n",
    "\n",
    "```pandas``` is a library that extends NumPy by adding row and column headers. The primary data format it uses is called a \"DataFrame.\" Pandas will read a plethora of file formats into the dataframe format for easy object oriented manipulation within python. When you are done with the manipulation, you can write the file back out or return the underlying NumPy array. We wont go into great detail with ```pandas``` in this course, however it is a very powerful tool for manipulating data just as ```numpy``` is for numerical analyses.\n",
    "\n",
    "https://pandas.pydata.org/docs/getting_started/index.html#getting-started\n"
   ]
  },
  {
   "cell_type": "markdown",
   "metadata": {
    "id": "jzphOCQVM3AT"
   },
   "source": [
    "### 3.A) Opening a file with Pandas\n",
    "\n",
    "Let's open some example data into Jupyter."
   ]
  },
  {
   "cell_type": "code",
   "execution_count": null,
   "metadata": {
    "id": "ilUoElr2Lk8K",
    "tags": []
   },
   "outputs": [],
   "source": [
    "import pandas as pd\n",
    "\n",
    "#Let's read some pre-generated data that was included for you in the CourseMaterials repository.\n",
    "housing_dataframe = pd.read_csv('./sampleData/california_housing_test.csv')"
   ]
  },
  {
   "cell_type": "code",
   "execution_count": null,
   "metadata": {
    "colab": {
     "base_uri": "https://localhost:8080/",
     "height": 487
    },
    "id": "jq-G_oXf5EgI",
    "outputId": "7d79cd46-5d9b-4389-83e0-5b84df195d3a",
    "tags": []
   },
   "outputs": [],
   "source": [
    "housing_dataframe #lets print out the beginning of this file"
   ]
  },
  {
   "cell_type": "markdown",
   "metadata": {
    "id": "S1yKWhMaM-Y7"
   },
   "source": [
    "Getting columns and Logicals\n",
    "\n",
    "The (dis)advantage of pandas is that the slicing that you would do with numpy can be done with strings instead of indexes.\n",
    "\n",
    "Pros:\n",
    "\n",
    "* Comprehension\n",
    "\n",
    "It's clear which column you are using at a time since you can use text label headers.\n",
    "\n",
    "Cons:\n",
    "* Readability\n",
    "\n",
    "When stringing together long logicals slicing dataframes, the readability can quickly become incomprehensible.\n"
   ]
  },
  {
   "cell_type": "code",
   "execution_count": null,
   "metadata": {
    "colab": {
     "base_uri": "https://localhost:8080/",
     "height": 487
    },
    "id": "tyYS_GY95_z7",
    "outputId": "548ccb22-f7b7-4959-a74a-293bc6927534",
    "tags": []
   },
   "outputs": [],
   "source": [
    "# lets get only the housing data from those with an household age of > 50\n",
    "housing_dataframe[housing_dataframe['housing_median_age'  ] > 50]"
   ]
  },
  {
   "cell_type": "code",
   "execution_count": null,
   "metadata": {
    "colab": {
     "base_uri": "https://localhost:8080/"
    },
    "id": "9zKWs4pFLyZ1",
    "outputId": "c6bce7e3-4de4-45de-f39b-5fbfa6b9bece",
    "tags": []
   },
   "outputs": [],
   "source": [
    "# getting just the housing median age\n",
    "all_median_ages = housing_dataframe['housing_median_age']\n",
    "\n",
    "# just the median ages above 25\n",
    "ages_above_25 = housing_dataframe[housing_dataframe['housing_median_age'] > 25]\n",
    "\n",
    "print(len(all_median_ages))\n",
    "print(len(ages_above_25))\n"
   ]
  },
  {
   "cell_type": "code",
   "execution_count": null,
   "metadata": {
    "colab": {
     "base_uri": "https://localhost:8080/",
     "height": 296
    },
    "id": "l-S55RtEL3x9",
    "outputId": "bd7162eb-3fe9-4047-a52a-23dada632274",
    "tags": []
   },
   "outputs": [],
   "source": [
    "#Lets plot some of that data with a module called matplotlib\n",
    "import matplotlib.pyplot as plt\n",
    "\n",
    "#pull the values out of the pandas array (stored as a numpy array)\n",
    "housing_data_array = housing_dataframe['housing_median_age'].values\n",
    "\n",
    "plt.hist(housing_data_array,50,density=True)\n",
    "plt.xlabel('age')\n",
    "plt.ylabel('probability')"
   ]
  },
  {
   "cell_type": "markdown",
   "metadata": {
    "id": "8rvGU7XjOKlE"
   },
   "source": [
    "| Attribute    | Description |\n",
    "| ----------- | ------------ |\n",
    "| .values()|  get a numpy array of all values within the dataframe    |  \n",
    "| .head()|  print out the top 5 rows    |  \n",
    "| .tail()|  print out the bottom 5 rows    |  \n",
    "| .iloc()|  lets you use indexes like the dataframe is numpy    |  \n",
    "| .columns()|  return out all the headers of the columns in the dataframe |  \n",
    "\n"
   ]
  },
  {
   "cell_type": "code",
   "execution_count": null,
   "metadata": {
    "colab": {
     "base_uri": "https://localhost:8080/"
    },
    "id": "5ZFozGpmOrAp",
    "outputId": "cd5784e0-7714-49bb-c4d4-60eef6771ed8",
    "tags": []
   },
   "outputs": [],
   "source": [
    "housing_dataframe.columns"
   ]
  },
  {
   "cell_type": "markdown",
   "metadata": {
    "id": "IpMOTILBMzU7"
   },
   "source": [
    "### 3.B) Writing a csv file with Pandas\n",
    "\n",
    "Lets write some simple CSVs using pandas. Pandas accepts multiple formats as long as indexes are provided."
   ]
  },
  {
   "cell_type": "code",
   "execution_count": null,
   "metadata": {
    "colab": {
     "base_uri": "https://localhost:8080/"
    },
    "id": "C6WqFeNUMm0I",
    "outputId": "850fe68a-da77-4540-f1e4-83e3510a2e75",
    "tags": []
   },
   "outputs": [],
   "source": [
    "# The easiest way to write a new dataframe is to generate a dictionary of your data\n",
    "# data keyed by its column header\n",
    "new_dataframe_dict = {'column 1': [1,2,3,4],\n",
    "                      'column 2': ['1','2','3','4'],\n",
    "                      'last col': ['a','b','c','d']}\n",
    "\n",
    "# optional row labels, we have 4 entries for each column, so we need 4 labels\n",
    "row_labels = ['row 1', 'row 2', 'row 3', 'row 4']\n",
    "\n",
    "# Generate our new pandas dataframe\n",
    "new_df = pd.DataFrame(new_dataframe_dict, index=row_labels)\n",
    "print('in memory:')\n",
    "print(new_df.head())\n",
    "\n",
    "# We can write this data frame to a .csv for easy of access in multiple softwares\n",
    "print('')\n",
    "new_df.to_csv('test_csv.csv',  index_label='blank')\n",
    "print('on disk:')\n",
    "!head test_csv.csv"
   ]
  },
  {
   "cell_type": "markdown",
   "metadata": {
    "id": "o2gOEScwRMdi"
   },
   "source": [
    "### 3.C) Creating a dataframe from a numpy array\n",
    "\n",
    "This is as simple as passing the array and the correct number of column headers into DataFrame"
   ]
  },
  {
   "cell_type": "code",
   "execution_count": null,
   "metadata": {
    "id": "isUXp7hjPm-L",
    "tags": []
   },
   "outputs": [],
   "source": [
    "import numpy as np\n",
    "random_array = np.random.randint(0,1000,size=(5,100)).T\n",
    "headers = ['col'+str(x) for x in range(0,5)]\n",
    "\n",
    "new_df = pd.DataFrame(random_array,columns=headers)"
   ]
  },
  {
   "cell_type": "code",
   "execution_count": null,
   "metadata": {
    "colab": {
     "base_uri": "https://localhost:8080/",
     "height": 206
    },
    "id": "Tvdr21iVQ1bw",
    "outputId": "27ae1765-96fc-4347-9dce-2206c2d72495",
    "tags": []
   },
   "outputs": [],
   "source": [
    "new_df.head()"
   ]
  },
  {
   "cell_type": "markdown",
   "metadata": {
    "id": "zUi7SNbCiKNI"
   },
   "source": [
    "## 4) Saving numpy arrays with npy files\n",
    "\n",
    " ```numpy``` aslo has a built in file format for you to save n-dimensional arrays and read them back in as needed."
   ]
  },
  {
   "cell_type": "code",
   "execution_count": null,
   "metadata": {
    "colab": {
     "base_uri": "https://localhost:8080/"
    },
    "id": "n8gptMhNiZ8h",
    "outputId": "87f30f1c-2fb2-434a-8ecb-5b08f1be91ef",
    "tags": []
   },
   "outputs": [],
   "source": [
    "import numpy as np\n",
    "\n",
    "my_array = np.ones((3,100,100))\n",
    "for i in range(3):\n",
    "  my_array[i] = my_array[i]*i\n",
    "\n",
    "print(my_array)\n",
    "\n",
    "print('')\n",
    "print('file on the disk:')\n",
    "np.save('test_save',my_array, )\n",
    "\n",
    "!head test_save.npy\n",
    "\n",
    "loaded_array = np.load('test_save.npy')\n",
    "\n",
    "print('')\n",
    "print('')\n",
    "print('loaded array:')\n",
    "print(loaded_array)"
   ]
  },
  {
   "cell_type": "markdown",
   "metadata": {
    "id": "AYysquQfRWTP"
   },
   "source": [
    "A note about memory sizes and datatypes:\n",
    "\n",
    "Numpy arrays can get large fast when you are working in multiple dimensions. When saving you can save disk space by making sure you are saving in the smallest datatype you can, keep in mind the maximum possible integers for different data types!\n",
    "\n",
    "| dtype | min | max | hex |\n",
    "| --- | --- | --- | --- |\n",
    "| int8 | -128 |127|  (-0x80, 0x7F)|\n",
    "| uint8 | 0 |255|  (0x00, 0xFF)|\n",
    "| int16 | -32768 |32767|  (-0x8000, 0x7FFF)|\n",
    "| uint16 | 0 |65535|  (0x0, 0xFFFF)|\n",
    "| int32 | -2147483648 | 2147483647 | (-0x80000000, 0x7FFFFFFF)\n",
    "| uint32 | 0 |4294967295|  (0x0, 0xFFFFFFFF)|\n",
    "| int64| -9223372036854775808 | 9223372036854775807 | (-0x8000000000000000, 0x7FFFFFFFFFFFFFFF)\n",
    "| uint64 | 0 |18446744073709551615|  (0x0, 0xFFFFFFFFFFFFFFFF)|\n",
    "\n",
    "----\n",
    "\n",
    "Note that these are maximums for **integer** values, representing floating point values is complicated and beyond the scope of this course, but 99% of the time they will use 32 or 64 bits of memory just like the larger integer data types. If you are interested check out the Wikipedia page on double precision floating points:\n",
    "https://en.wikipedia.org/wiki/Double-precision_floating-point_format\n",
    "\n",
    "\n",
    "\n"
   ]
  },
  {
   "cell_type": "code",
   "execution_count": null,
   "metadata": {
    "colab": {
     "base_uri": "https://localhost:8080/"
    },
    "id": "XxDExd8lR0a8",
    "outputId": "f0a9ceb8-f3a3-4879-f2a0-187c6a200303",
    "tags": []
   },
   "outputs": [],
   "source": [
    "dtypes = {'int16': np.int16,\n",
    "          'int32': np.int32,\n",
    "          'float32':np.float32,\n",
    "          'float64':np.float64,\n",
    "          'bool':bool}\n",
    "data_type = 'int16' #@param [\"int16\",\"int32\",\"float32\", 'float64','bool']\n",
    "dtype = dtypes[data_type]\n",
    "array = np.ones([300,300,300]).astype(dtype)\n",
    "totalbytes = array.itemsize*array.size\n",
    "\n",
    "print('total mb of this array with type %s: %1.4f mb'% (str(dtype),totalbytes/1e6))"
   ]
  },
  {
   "cell_type": "markdown",
   "metadata": {
    "id": "lRq21AN7lNjx"
   },
   "source": [
    "## Questions"
   ]
  },
  {
   "cell_type": "code",
   "execution_count": null,
   "metadata": {
    "id": "PlZcd6_YlNOx"
   },
   "outputs": [],
   "source": [
    "## Print the current working directory using the module os"
   ]
  },
  {
   "cell_type": "code",
   "execution_count": null,
   "metadata": {
    "id": "0BYik57jwckx"
   },
   "outputs": [],
   "source": [
    "## Open a file and write a short message in text, save the file as 'example_file.txt'"
   ]
  },
  {
   "cell_type": "code",
   "execution_count": null,
   "metadata": {
    "id": "c2BM84Tpwxif"
   },
   "outputs": [],
   "source": [
    "## List out the default packages installed in Colab,\n",
    "## pick one, and view its docstring / documentation"
   ]
  }
 ],
 "metadata": {
  "colab": {
   "provenance": [],
   "toc_visible": true
  },
  "kernelspec": {
   "display_name": "Python 3",
   "language": "python",
   "name": "python3"
  },
  "language_info": {
   "codemirror_mode": {
    "name": "ipython",
    "version": 3
   },
   "file_extension": ".py",
   "mimetype": "text/x-python",
   "name": "python",
   "nbconvert_exporter": "python",
   "pygments_lexer": "ipython3",
   "version": "3.11.5"
  }
 },
 "nbformat": 4,
 "nbformat_minor": 4
}
